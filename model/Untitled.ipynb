{
 "cells": [
  {
   "cell_type": "code",
   "execution_count": 1,
   "id": "fa41a603-6fd3-48ba-819c-52780dd3f9eb",
   "metadata": {},
   "outputs": [
    {
     "name": "stdout",
     "output_type": "stream",
     "text": [
      "Requirement already satisfied: numpy in d:\\work\\03_projects\\17_price_predictor_03\\model\\env\\lib\\site-packages (2.2.4)\n",
      "Requirement already satisfied: pandas in d:\\work\\03_projects\\17_price_predictor_03\\model\\env\\lib\\site-packages (2.2.3)\n",
      "Requirement already satisfied: numpy>=1.26.0 in d:\\work\\03_projects\\17_price_predictor_03\\model\\env\\lib\\site-packages (from pandas) (2.2.4)\n",
      "Requirement already satisfied: python-dateutil>=2.8.2 in d:\\work\\03_projects\\17_price_predictor_03\\model\\env\\lib\\site-packages (from pandas) (2.9.0.post0)\n",
      "Requirement already satisfied: pytz>=2020.1 in d:\\work\\03_projects\\17_price_predictor_03\\model\\env\\lib\\site-packages (from pandas) (2025.1)\n",
      "Requirement already satisfied: tzdata>=2022.7 in d:\\work\\03_projects\\17_price_predictor_03\\model\\env\\lib\\site-packages (from pandas) (2025.1)\n",
      "Requirement already satisfied: six>=1.5 in d:\\work\\03_projects\\17_price_predictor_03\\model\\env\\lib\\site-packages (from python-dateutil>=2.8.2->pandas) (1.17.0)\n"
     ]
    }
   ],
   "source": [
    "!pip install numpy\n",
    "!pip install pandas"
   ]
  },
  {
   "cell_type": "code",
   "execution_count": 2,
   "id": "7a83b639-4102-442b-a48d-f2a6d0c692ef",
   "metadata": {},
   "outputs": [],
   "source": [
    "import numpy as np\n",
    "import pandas as pd"
   ]
  },
  {
   "cell_type": "code",
   "execution_count": 4,
   "id": "881d7e48-40a1-49ba-9acb-613fdd7d1acd",
   "metadata": {},
   "outputs": [
    {
     "name": "stdout",
     "output_type": "stream",
     "text": [
      "  \\tPrice\\tBaths\\tLand size\\tBeds\\tHouse size\\tSeller_type\\ttown\\tdistrict\n",
      "0  0\\t5400000\\t1\\t50.0\\t3\\t1600.0\\tMember\\t Matar...                      \n",
      "1  1\\t16800000\\t3\\t8.0\\t3\\t1480.0\\tPremium-Member...                      \n",
      "2  2\\t20000000\\t2\\t20.0\\t3\\t2800.0\\tMember\\t Kela...                      \n",
      "3  3\\t187000000\\t5\\t22.0\\t5\\t4000.0\\tPremium-Memb...                      \n",
      "4  4\\t1300000\\t1\\t6.3\\t2\\t900.0\\tMember\\t Dehiwal...                      \n"
     ]
    }
   ],
   "source": [
    "import pandas as pd\n",
    "\n",
    "url = \"https://raw.githubusercontent.com/Sanjula-Madushanka/Price-Predictor/refs/heads/main/cleaned_data.csv\"\n",
    "data = pd.read_csv(url, encoding='latin-1')\n",
    "print(data.head())"
   ]
  },
  {
   "cell_type": "code",
   "execution_count": 6,
   "id": "52f88bca-a14c-4765-9692-6970ca2457be",
   "metadata": {},
   "outputs": [
    {
     "name": "stdout",
     "output_type": "stream",
     "text": [
      "   Unnamed: 0      Price  Baths Land size  Beds  House size     Seller_type  \\\n",
      "0           0    5400000      1      50.0     3      1600.0          Member   \n",
      "1           1   16800000      3       8.0     3      1480.0  Premium-Member   \n",
      "2           2   20000000      2      20.0     3      2800.0          Member   \n",
      "3           3  187000000      5      22.0     5      4000.0  Premium-Member   \n",
      "4           4    1300000      1       6.3     2       900.0          Member   \n",
      "\n",
      "            town   district  \n",
      "0    Matara City     Matara  \n",
      "1   Athurugiriya    Colombo  \n",
      "2       Kelaniya    Gampaha  \n",
      "3      Colombo 6    Colombo  \n",
      "4       Dehiwala    Colombo  \n"
     ]
    }
   ],
   "source": [
    "data = pd.read_csv(url, encoding='latin-1', sep=\"\\t\")\n",
    "print(data.head())"
   ]
  },
  {
   "cell_type": "code",
   "execution_count": 5,
   "id": "8c74b562-0eea-413d-b447-62e603530c69",
   "metadata": {},
   "outputs": [
    {
     "data": {
      "text/html": [
       "<div>\n",
       "<style scoped>\n",
       "    .dataframe tbody tr th:only-of-type {\n",
       "        vertical-align: middle;\n",
       "    }\n",
       "\n",
       "    .dataframe tbody tr th {\n",
       "        vertical-align: top;\n",
       "    }\n",
       "\n",
       "    .dataframe thead th {\n",
       "        text-align: right;\n",
       "    }\n",
       "</style>\n",
       "<table border=\"1\" class=\"dataframe\">\n",
       "  <thead>\n",
       "    <tr style=\"text-align: right;\">\n",
       "      <th></th>\n",
       "      <th>Unnamed: 0</th>\n",
       "      <th>Price</th>\n",
       "      <th>Baths</th>\n",
       "      <th>Land size</th>\n",
       "      <th>Beds</th>\n",
       "      <th>House size</th>\n",
       "      <th>Seller_type</th>\n",
       "      <th>town</th>\n",
       "      <th>district</th>\n",
       "    </tr>\n",
       "  </thead>\n",
       "  <tbody>\n",
       "    <tr>\n",
       "      <th>0</th>\n",
       "      <td>False</td>\n",
       "      <td>False</td>\n",
       "      <td>False</td>\n",
       "      <td>False</td>\n",
       "      <td>False</td>\n",
       "      <td>False</td>\n",
       "      <td>False</td>\n",
       "      <td>False</td>\n",
       "      <td>False</td>\n",
       "    </tr>\n",
       "    <tr>\n",
       "      <th>1</th>\n",
       "      <td>False</td>\n",
       "      <td>False</td>\n",
       "      <td>False</td>\n",
       "      <td>False</td>\n",
       "      <td>False</td>\n",
       "      <td>False</td>\n",
       "      <td>False</td>\n",
       "      <td>False</td>\n",
       "      <td>False</td>\n",
       "    </tr>\n",
       "    <tr>\n",
       "      <th>2</th>\n",
       "      <td>False</td>\n",
       "      <td>False</td>\n",
       "      <td>False</td>\n",
       "      <td>False</td>\n",
       "      <td>False</td>\n",
       "      <td>False</td>\n",
       "      <td>False</td>\n",
       "      <td>False</td>\n",
       "      <td>False</td>\n",
       "    </tr>\n",
       "    <tr>\n",
       "      <th>3</th>\n",
       "      <td>False</td>\n",
       "      <td>False</td>\n",
       "      <td>False</td>\n",
       "      <td>False</td>\n",
       "      <td>False</td>\n",
       "      <td>False</td>\n",
       "      <td>False</td>\n",
       "      <td>False</td>\n",
       "      <td>False</td>\n",
       "    </tr>\n",
       "    <tr>\n",
       "      <th>4</th>\n",
       "      <td>False</td>\n",
       "      <td>False</td>\n",
       "      <td>False</td>\n",
       "      <td>False</td>\n",
       "      <td>False</td>\n",
       "      <td>False</td>\n",
       "      <td>False</td>\n",
       "      <td>False</td>\n",
       "      <td>False</td>\n",
       "    </tr>\n",
       "    <tr>\n",
       "      <th>...</th>\n",
       "      <td>...</td>\n",
       "      <td>...</td>\n",
       "      <td>...</td>\n",
       "      <td>...</td>\n",
       "      <td>...</td>\n",
       "      <td>...</td>\n",
       "      <td>...</td>\n",
       "      <td>...</td>\n",
       "      <td>...</td>\n",
       "    </tr>\n",
       "    <tr>\n",
       "      <th>15264</th>\n",
       "      <td>False</td>\n",
       "      <td>False</td>\n",
       "      <td>False</td>\n",
       "      <td>False</td>\n",
       "      <td>False</td>\n",
       "      <td>False</td>\n",
       "      <td>False</td>\n",
       "      <td>False</td>\n",
       "      <td>False</td>\n",
       "    </tr>\n",
       "    <tr>\n",
       "      <th>15265</th>\n",
       "      <td>False</td>\n",
       "      <td>False</td>\n",
       "      <td>False</td>\n",
       "      <td>False</td>\n",
       "      <td>False</td>\n",
       "      <td>False</td>\n",
       "      <td>False</td>\n",
       "      <td>False</td>\n",
       "      <td>False</td>\n",
       "    </tr>\n",
       "    <tr>\n",
       "      <th>15266</th>\n",
       "      <td>False</td>\n",
       "      <td>False</td>\n",
       "      <td>False</td>\n",
       "      <td>False</td>\n",
       "      <td>False</td>\n",
       "      <td>False</td>\n",
       "      <td>False</td>\n",
       "      <td>False</td>\n",
       "      <td>False</td>\n",
       "    </tr>\n",
       "    <tr>\n",
       "      <th>15267</th>\n",
       "      <td>False</td>\n",
       "      <td>False</td>\n",
       "      <td>False</td>\n",
       "      <td>False</td>\n",
       "      <td>False</td>\n",
       "      <td>False</td>\n",
       "      <td>False</td>\n",
       "      <td>False</td>\n",
       "      <td>False</td>\n",
       "    </tr>\n",
       "    <tr>\n",
       "      <th>15268</th>\n",
       "      <td>False</td>\n",
       "      <td>False</td>\n",
       "      <td>False</td>\n",
       "      <td>False</td>\n",
       "      <td>False</td>\n",
       "      <td>False</td>\n",
       "      <td>False</td>\n",
       "      <td>False</td>\n",
       "      <td>False</td>\n",
       "    </tr>\n",
       "  </tbody>\n",
       "</table>\n",
       "<p>15269 rows × 9 columns</p>\n",
       "</div>"
      ],
      "text/plain": [
       "       Unnamed: 0  Price  Baths  Land size   Beds  House size  Seller_type  \\\n",
       "0           False  False  False      False  False       False        False   \n",
       "1           False  False  False      False  False       False        False   \n",
       "2           False  False  False      False  False       False        False   \n",
       "3           False  False  False      False  False       False        False   \n",
       "4           False  False  False      False  False       False        False   \n",
       "...           ...    ...    ...        ...    ...         ...          ...   \n",
       "15264       False  False  False      False  False       False        False   \n",
       "15265       False  False  False      False  False       False        False   \n",
       "15266       False  False  False      False  False       False        False   \n",
       "15267       False  False  False      False  False       False        False   \n",
       "15268       False  False  False      False  False       False        False   \n",
       "\n",
       "        town  district  \n",
       "0      False     False  \n",
       "1      False     False  \n",
       "2      False     False  \n",
       "3      False     False  \n",
       "4      False     False  \n",
       "...      ...       ...  \n",
       "15264  False     False  \n",
       "15265  False     False  \n",
       "15266  False     False  \n",
       "15267  False     False  \n",
       "15268  False     False  \n",
       "\n",
       "[15269 rows x 9 columns]"
      ]
     },
     "execution_count": 5,
     "metadata": {},
     "output_type": "execute_result"
    }
   ],
   "source": [
    "data.isnull()"
   ]
  },
  {
   "cell_type": "code",
   "execution_count": 2,
   "id": "3e0eedcc-a8e1-4e4c-8d72-1648d85af106",
   "metadata": {},
   "outputs": [
    {
     "name": "stdout",
     "output_type": "stream",
     "text": [
      "<class 'pandas.core.frame.DataFrame'>\n",
      "RangeIndex: 15269 entries, 0 to 15268\n",
      "Data columns (total 1 columns):\n",
      " #   Column                                                            Non-Null Count  Dtype \n",
      "---  ------                                                            --------------  ----- \n",
      " 0   \tPrice\tBaths\tLand size\tBeds\tHouse size\tSeller_type\ttown\tdistrict  15269 non-null  object\n",
      "dtypes: object(1)\n",
      "memory usage: 119.4+ KB\n"
     ]
    }
   ],
   "source": [
    "data.info()"
   ]
  },
  {
   "cell_type": "code",
   "execution_count": 3,
   "id": "bfe1d105-f44e-4669-9e31-7edaaffed1c1",
   "metadata": {},
   "outputs": [
    {
     "data": {
      "text/html": [
       "<div>\n",
       "<style scoped>\n",
       "    .dataframe tbody tr th:only-of-type {\n",
       "        vertical-align: middle;\n",
       "    }\n",
       "\n",
       "    .dataframe tbody tr th {\n",
       "        vertical-align: top;\n",
       "    }\n",
       "\n",
       "    .dataframe thead th {\n",
       "        text-align: right;\n",
       "    }\n",
       "</style>\n",
       "<table border=\"1\" class=\"dataframe\">\n",
       "  <thead>\n",
       "    <tr style=\"text-align: right;\">\n",
       "      <th></th>\n",
       "      <th>\\tPrice\\tBaths\\tLand size\\tBeds\\tHouse size\\tSeller_type\\ttown\\tdistrict</th>\n",
       "    </tr>\n",
       "  </thead>\n",
       "  <tbody>\n",
       "    <tr>\n",
       "      <th>0</th>\n",
       "      <td>0\\t5400000\\t1\\t50.0\\t3\\t1600.0\\tMember\\t Matar...</td>\n",
       "    </tr>\n",
       "    <tr>\n",
       "      <th>1</th>\n",
       "      <td>1\\t16800000\\t3\\t8.0\\t3\\t1480.0\\tPremium-Member...</td>\n",
       "    </tr>\n",
       "  </tbody>\n",
       "</table>\n",
       "</div>"
      ],
      "text/plain": [
       "  \\tPrice\\tBaths\\tLand size\\tBeds\\tHouse size\\tSeller_type\\ttown\\tdistrict\n",
       "0  0\\t5400000\\t1\\t50.0\\t3\\t1600.0\\tMember\\t Matar...                      \n",
       "1  1\\t16800000\\t3\\t8.0\\t3\\t1480.0\\tPremium-Member...                      "
      ]
     },
     "execution_count": 3,
     "metadata": {},
     "output_type": "execute_result"
    }
   ],
   "source": [
    "data.head(2)"
   ]
  },
  {
   "cell_type": "code",
   "execution_count": 7,
   "id": "45a3723f-50aa-45a9-9330-c693ff71b571",
   "metadata": {},
   "outputs": [
    {
     "name": "stdout",
     "output_type": "stream",
     "text": [
      "   Unnamed: 0      Price  Baths Land size  Beds  House size     Seller_type  \\\n",
      "0           0    5400000      1      50.0     3      1600.0          Member   \n",
      "1           1   16800000      3       8.0     3      1480.0  Premium-Member   \n",
      "2           2   20000000      2      20.0     3      2800.0          Member   \n",
      "3           3  187000000      5      22.0     5      4000.0  Premium-Member   \n",
      "4           4    1300000      1       6.3     2       900.0          Member   \n",
      "\n",
      "            town   district  \n",
      "0    Matara City     Matara  \n",
      "1   Athurugiriya    Colombo  \n",
      "2       Kelaniya    Gampaha  \n",
      "3      Colombo 6    Colombo  \n",
      "4       Dehiwala    Colombo  \n"
     ]
    }
   ],
   "source": [
    "data = pd.read_csv(url, encoding='latin-1', sep=\"\\t\")\n",
    "print(data.head())"
   ]
  },
  {
   "cell_type": "code",
   "execution_count": 8,
   "id": "8d2670e4-97b1-4925-b635-a8d674b37ed0",
   "metadata": {},
   "outputs": [
    {
     "data": {
      "text/html": [
       "<div>\n",
       "<style scoped>\n",
       "    .dataframe tbody tr th:only-of-type {\n",
       "        vertical-align: middle;\n",
       "    }\n",
       "\n",
       "    .dataframe tbody tr th {\n",
       "        vertical-align: top;\n",
       "    }\n",
       "\n",
       "    .dataframe thead th {\n",
       "        text-align: right;\n",
       "    }\n",
       "</style>\n",
       "<table border=\"1\" class=\"dataframe\">\n",
       "  <thead>\n",
       "    <tr style=\"text-align: right;\">\n",
       "      <th></th>\n",
       "      <th>Unnamed: 0</th>\n",
       "      <th>Price</th>\n",
       "      <th>Baths</th>\n",
       "      <th>Land size</th>\n",
       "      <th>Beds</th>\n",
       "      <th>House size</th>\n",
       "      <th>Seller_type</th>\n",
       "      <th>town</th>\n",
       "      <th>district</th>\n",
       "    </tr>\n",
       "  </thead>\n",
       "  <tbody>\n",
       "    <tr>\n",
       "      <th>0</th>\n",
       "      <td>0</td>\n",
       "      <td>5400000</td>\n",
       "      <td>1</td>\n",
       "      <td>50.0</td>\n",
       "      <td>3</td>\n",
       "      <td>1600.0</td>\n",
       "      <td>Member</td>\n",
       "      <td>Matara City</td>\n",
       "      <td>Matara</td>\n",
       "    </tr>\n",
       "    <tr>\n",
       "      <th>1</th>\n",
       "      <td>1</td>\n",
       "      <td>16800000</td>\n",
       "      <td>3</td>\n",
       "      <td>8.0</td>\n",
       "      <td>3</td>\n",
       "      <td>1480.0</td>\n",
       "      <td>Premium-Member</td>\n",
       "      <td>Athurugiriya</td>\n",
       "      <td>Colombo</td>\n",
       "    </tr>\n",
       "  </tbody>\n",
       "</table>\n",
       "</div>"
      ],
      "text/plain": [
       "   Unnamed: 0     Price  Baths Land size  Beds  House size     Seller_type  \\\n",
       "0           0   5400000      1      50.0     3      1600.0          Member   \n",
       "1           1  16800000      3       8.0     3      1480.0  Premium-Member   \n",
       "\n",
       "            town   district  \n",
       "0    Matara City     Matara  \n",
       "1   Athurugiriya    Colombo  "
      ]
     },
     "execution_count": 8,
     "metadata": {},
     "output_type": "execute_result"
    }
   ],
   "source": [
    "data.head(2)"
   ]
  },
  {
   "cell_type": "code",
   "execution_count": 9,
   "id": "e2c4ce52-9359-4f02-9a5c-a3d4f3452b5e",
   "metadata": {},
   "outputs": [],
   "source": [
    "data['Land size'] = pd.to_numeric(data['Land size'].astype(str).str.replace(',', '', regex=True), errors='coerce')"
   ]
  },
  {
   "cell_type": "code",
   "execution_count": 10,
   "id": "33b0b9c0-0e1c-486a-acc9-da14a58d33c1",
   "metadata": {},
   "outputs": [
    {
     "name": "stdout",
     "output_type": "stream",
     "text": [
      "Unnamed: 0   -0.016914\n",
      "Price         1.000000\n",
      "Baths         0.455906\n",
      "Land size     0.022072\n",
      "Beds          0.383324\n",
      "House size    0.398692\n",
      "Name: Price, dtype: float64\n"
     ]
    }
   ],
   "source": [
    "numeric_data = data.select_dtypes(include=['number'])  # Keep only numeric columns\n",
    "correlation = numeric_data.corr()['Price']\n",
    "print(correlation)"
   ]
  },
  {
   "cell_type": "code",
   "execution_count": 11,
   "id": "09b4822c-c5d8-4a2e-a5be-916f9429565f",
   "metadata": {},
   "outputs": [
    {
     "data": {
      "text/plain": [
       "town\n",
       "Piliyandala     2806\n",
       "Malabe          1572\n",
       "Negombo         1363\n",
       "Talawatugoda    1296\n",
       "Kottawa          750\n",
       "                ... \n",
       "Medirigiriya       1\n",
       "Eppawala           1\n",
       "Galigamuwa         1\n",
       "Galgamuwa          1\n",
       "Wellawaya          1\n",
       "Name: count, Length: 172, dtype: int64"
      ]
     },
     "execution_count": 11,
     "metadata": {},
     "output_type": "execute_result"
    }
   ],
   "source": [
    "data['town'].value_counts()"
   ]
  },
  {
   "cell_type": "code",
   "execution_count": 12,
   "id": "ff1ba274-965c-49e4-82f0-e62443f00f63",
   "metadata": {},
   "outputs": [],
   "source": [
    "data=data.drop(columns=['Seller_type','Unnamed: 0'])"
   ]
  },
  {
   "cell_type": "code",
   "execution_count": 13,
   "id": "45e72770-ef24-4488-b8e7-cce57bb9cd3a",
   "metadata": {},
   "outputs": [
    {
     "data": {
      "text/html": [
       "<div>\n",
       "<style scoped>\n",
       "    .dataframe tbody tr th:only-of-type {\n",
       "        vertical-align: middle;\n",
       "    }\n",
       "\n",
       "    .dataframe tbody tr th {\n",
       "        vertical-align: top;\n",
       "    }\n",
       "\n",
       "    .dataframe thead th {\n",
       "        text-align: right;\n",
       "    }\n",
       "</style>\n",
       "<table border=\"1\" class=\"dataframe\">\n",
       "  <thead>\n",
       "    <tr style=\"text-align: right;\">\n",
       "      <th></th>\n",
       "      <th>Price</th>\n",
       "      <th>Baths</th>\n",
       "      <th>Land size</th>\n",
       "      <th>Beds</th>\n",
       "      <th>House size</th>\n",
       "      <th>town</th>\n",
       "      <th>district</th>\n",
       "    </tr>\n",
       "  </thead>\n",
       "  <tbody>\n",
       "    <tr>\n",
       "      <th>0</th>\n",
       "      <td>5400000</td>\n",
       "      <td>1</td>\n",
       "      <td>50.0</td>\n",
       "      <td>3</td>\n",
       "      <td>1600.0</td>\n",
       "      <td>Matara City</td>\n",
       "      <td>Matara</td>\n",
       "    </tr>\n",
       "    <tr>\n",
       "      <th>1</th>\n",
       "      <td>16800000</td>\n",
       "      <td>3</td>\n",
       "      <td>8.0</td>\n",
       "      <td>3</td>\n",
       "      <td>1480.0</td>\n",
       "      <td>Athurugiriya</td>\n",
       "      <td>Colombo</td>\n",
       "    </tr>\n",
       "  </tbody>\n",
       "</table>\n",
       "</div>"
      ],
      "text/plain": [
       "      Price  Baths  Land size  Beds  House size           town   district\n",
       "0   5400000      1       50.0     3      1600.0    Matara City     Matara\n",
       "1  16800000      3        8.0     3      1480.0   Athurugiriya    Colombo"
      ]
     },
     "execution_count": 13,
     "metadata": {},
     "output_type": "execute_result"
    }
   ],
   "source": [
    "data.head(2)"
   ]
  },
  {
   "cell_type": "code",
   "execution_count": 14,
   "id": "b93abfcf-3c5b-40c2-8fb7-6fc833a954d4",
   "metadata": {},
   "outputs": [],
   "source": [
    "district_dummies = pd.get_dummies(data[\"district\"], prefix=\"district\")\n",
    "data = pd.concat([data, district_dummies], axis=1)"
   ]
  },
  {
   "cell_type": "code",
   "execution_count": 12,
   "id": "e571d9e4-a941-4df1-b921-1d3a2e5253ad",
   "metadata": {},
   "outputs": [
    {
     "ename": "KeyError",
     "evalue": "\"['town_list'] not in index\"",
     "output_type": "error",
     "traceback": [
      "\u001b[31m---------------------------------------------------------------------------\u001b[39m",
      "\u001b[31mKeyError\u001b[39m                                  Traceback (most recent call last)",
      "\u001b[36mCell\u001b[39m\u001b[36m \u001b[39m\u001b[32mIn[12]\u001b[39m\u001b[32m, line 1\u001b[39m\n\u001b[32m----> \u001b[39m\u001b[32m1\u001b[39m \u001b[38;5;28mprint\u001b[39m(\u001b[43mdata\u001b[49m\u001b[43m[\u001b[49m\u001b[43m[\u001b[49m\u001b[33;43m\"\u001b[39;49m\u001b[33;43mdistrict\u001b[39;49m\u001b[33;43m\"\u001b[39;49m\u001b[43m,\u001b[49m\u001b[43m \u001b[49m\u001b[33;43m\"\u001b[39;49m\u001b[33;43mtown\u001b[39;49m\u001b[33;43m\"\u001b[39;49m\u001b[43m,\u001b[49m\u001b[43m \u001b[49m\u001b[33;43m\"\u001b[39;49m\u001b[33;43mtown_list\u001b[39;49m\u001b[33;43m\"\u001b[39;49m\u001b[43m]\u001b[49m\u001b[43m]\u001b[49m.head(\u001b[32m10\u001b[39m))\n",
      "\u001b[36mFile \u001b[39m\u001b[32mD:\\Work\\03_Projects\\17_price_predictor_03\\model\\env\\Lib\\site-packages\\pandas\\core\\frame.py:4108\u001b[39m, in \u001b[36mDataFrame.__getitem__\u001b[39m\u001b[34m(self, key)\u001b[39m\n\u001b[32m   4106\u001b[39m     \u001b[38;5;28;01mif\u001b[39;00m is_iterator(key):\n\u001b[32m   4107\u001b[39m         key = \u001b[38;5;28mlist\u001b[39m(key)\n\u001b[32m-> \u001b[39m\u001b[32m4108\u001b[39m     indexer = \u001b[38;5;28;43mself\u001b[39;49m\u001b[43m.\u001b[49m\u001b[43mcolumns\u001b[49m\u001b[43m.\u001b[49m\u001b[43m_get_indexer_strict\u001b[49m\u001b[43m(\u001b[49m\u001b[43mkey\u001b[49m\u001b[43m,\u001b[49m\u001b[43m \u001b[49m\u001b[33;43m\"\u001b[39;49m\u001b[33;43mcolumns\u001b[39;49m\u001b[33;43m\"\u001b[39;49m\u001b[43m)\u001b[49m[\u001b[32m1\u001b[39m]\n\u001b[32m   4110\u001b[39m \u001b[38;5;66;03m# take() does not accept boolean indexers\u001b[39;00m\n\u001b[32m   4111\u001b[39m \u001b[38;5;28;01mif\u001b[39;00m \u001b[38;5;28mgetattr\u001b[39m(indexer, \u001b[33m\"\u001b[39m\u001b[33mdtype\u001b[39m\u001b[33m\"\u001b[39m, \u001b[38;5;28;01mNone\u001b[39;00m) == \u001b[38;5;28mbool\u001b[39m:\n",
      "\u001b[36mFile \u001b[39m\u001b[32mD:\\Work\\03_Projects\\17_price_predictor_03\\model\\env\\Lib\\site-packages\\pandas\\core\\indexes\\base.py:6200\u001b[39m, in \u001b[36mIndex._get_indexer_strict\u001b[39m\u001b[34m(self, key, axis_name)\u001b[39m\n\u001b[32m   6197\u001b[39m \u001b[38;5;28;01melse\u001b[39;00m:\n\u001b[32m   6198\u001b[39m     keyarr, indexer, new_indexer = \u001b[38;5;28mself\u001b[39m._reindex_non_unique(keyarr)\n\u001b[32m-> \u001b[39m\u001b[32m6200\u001b[39m \u001b[38;5;28;43mself\u001b[39;49m\u001b[43m.\u001b[49m\u001b[43m_raise_if_missing\u001b[49m\u001b[43m(\u001b[49m\u001b[43mkeyarr\u001b[49m\u001b[43m,\u001b[49m\u001b[43m \u001b[49m\u001b[43mindexer\u001b[49m\u001b[43m,\u001b[49m\u001b[43m \u001b[49m\u001b[43maxis_name\u001b[49m\u001b[43m)\u001b[49m\n\u001b[32m   6202\u001b[39m keyarr = \u001b[38;5;28mself\u001b[39m.take(indexer)\n\u001b[32m   6203\u001b[39m \u001b[38;5;28;01mif\u001b[39;00m \u001b[38;5;28misinstance\u001b[39m(key, Index):\n\u001b[32m   6204\u001b[39m     \u001b[38;5;66;03m# GH 42790 - Preserve name from an Index\u001b[39;00m\n",
      "\u001b[36mFile \u001b[39m\u001b[32mD:\\Work\\03_Projects\\17_price_predictor_03\\model\\env\\Lib\\site-packages\\pandas\\core\\indexes\\base.py:6252\u001b[39m, in \u001b[36mIndex._raise_if_missing\u001b[39m\u001b[34m(self, key, indexer, axis_name)\u001b[39m\n\u001b[32m   6249\u001b[39m     \u001b[38;5;28;01mraise\u001b[39;00m \u001b[38;5;167;01mKeyError\u001b[39;00m(\u001b[33mf\u001b[39m\u001b[33m\"\u001b[39m\u001b[33mNone of [\u001b[39m\u001b[38;5;132;01m{\u001b[39;00mkey\u001b[38;5;132;01m}\u001b[39;00m\u001b[33m] are in the [\u001b[39m\u001b[38;5;132;01m{\u001b[39;00maxis_name\u001b[38;5;132;01m}\u001b[39;00m\u001b[33m]\u001b[39m\u001b[33m\"\u001b[39m)\n\u001b[32m   6251\u001b[39m not_found = \u001b[38;5;28mlist\u001b[39m(ensure_index(key)[missing_mask.nonzero()[\u001b[32m0\u001b[39m]].unique())\n\u001b[32m-> \u001b[39m\u001b[32m6252\u001b[39m \u001b[38;5;28;01mraise\u001b[39;00m \u001b[38;5;167;01mKeyError\u001b[39;00m(\u001b[33mf\u001b[39m\u001b[33m\"\u001b[39m\u001b[38;5;132;01m{\u001b[39;00mnot_found\u001b[38;5;132;01m}\u001b[39;00m\u001b[33m not in index\u001b[39m\u001b[33m\"\u001b[39m)\n",
      "\u001b[31mKeyError\u001b[39m: \"['town_list'] not in index\""
     ]
    }
   ],
   "source": [
    "print(data[[\"district\", \"town\", \"town_list\"]].head(10))"
   ]
  },
  {
   "cell_type": "code",
   "execution_count": 15,
   "id": "da2aa303-258c-4264-ad36-aa9d1e8f016e",
   "metadata": {},
   "outputs": [],
   "source": [
    "district_town_map = {\n",
    "    \"Ampara\": [\"Ampara City\", \"Akkarepattu\", \"Kalmunai\"],\n",
    "    \"Anuradhapura\": [\"Anuradhapura City\", \"Mihintale\", \"Nochchiyagama\", \"Eppawala\"],\n",
    "    \"Badulla\": [\"Badulla City\", \"Bandarawela\", \"Welimada\", \"Haputale\"],\n",
    "    \"Batticaloa\": [\"Batticaloa City\"],\n",
    "    \"Colombo\": [\"Colombo 1\", \"Colombo 2\", \"Colombo 3\", \"Colombo 4\", \"Colombo 5\", \"Colombo 6\", \"Colombo 7\", \"Colombo 8\", \"Colombo 9\", \"Colombo 10\", \"Colombo 12\", \"Colombo 13\", \"Colombo 14\", \"Colombo 15\", \"Dehiwala\", \"Mount Lavinia\", \"Nugegoda\", \"Kohuwala\", \"Rajagiriya\", \"Wellampitiya\"],\n",
    "    \"Galle\": [\"Galle City\", \"Ahangama\", \"Hikkaduwa\", \"Karapitiya\", \"Dikwella\"],\n",
    "    \"Gampaha\": [\"Gampaha City\", \"Ja-Ela\", \"Ragama\", \"Kadawatha\", \"Kiribathgoda\", \"Kelaniya\", \"Negombo\", \"Minuwangoda\", \"Divulapitiya\", \"Seeduwa\", \"Wattala\"],\n",
    "    \"Hambantota\": [\"Hambantota City\", \"Tangalla\", \"Ambalantota\", \"Kataragama\"],\n",
    "    \"Jaffna\": [\"Jaffna City\", \"Nallur\"],\n",
    "    \"Kalutara\": [\"Kalutara City\", \"Beruwala\", \"Bandaragama\", \"Matugama\", \"Wadduwa\"],\n",
    "    \"Kandy\": [\"Kandy City\", \"Peradeniya\", \"Katugastota\", \"Pilimatalawa\", \"Gampola\", \"Gelioya\", \"Digana\", \"Menikhinna\"],\n",
    "    \"Kegalle\": [\"Kegalle City\", \"Warakapola\", \"Rambukkana\"],\n",
    "    \"Kurunegala\": [\"Kurunegala City\", \"Narammala\", \"Pannala\", \"Wariyapola\", \"Kuliyapitiya\"],\n",
    "    \"Mannar\": [\"Mannar City\"],\n",
    "    \"Matale\": [\"Matale City\", \"Galewela\"],\n",
    "    \"Matara\": [\"Matara City\", \"Weligama\", \"Dikwella\", \"Mirissa\", \"Kamburugamuwa\", \"Deniyaya\", \"Akuressa\", \"Devinuwara\", \"Kekanadura\", \"Thelijjawila\", \"Pasgoda\", \"Urubokka\", \"Thihagoda\", \"Malimbada\", \"Hakmana\", \"Makandura\"],\n",
    "    \"Monaragala\": [\"Monaragala City\", \"Wellawaya\", \"Bibile\"],\n",
    "    \"Mullativu\": [\"Mullativu City\"],\n",
    "    \"Nuwara Eliya\": [\"Nuwara Eliya City\", \"Nawalapitiya\", \"Hatton\"],\n",
    "    \"Polonnaruwa\": [\"Polonnaruwa City\", \"Medirigiriya\"],\n",
    "    \"Puttalam\": [\"Puttalam City\", \"Wennappuwa\", \"Chilaw\"],\n",
    "    \"Ratnapura\": [\"Ratnapura City\", \"Balangoda\", \"Pelmadulla\"],\n",
    "    \"Trincomalee\": [\"Trincomalee City\"],\n",
    "    \"Vavuniya\": [\"Vavuniya City\"]\n",
    "}\n",
    "\n",
    "data[\"town_list\"] = data[\"district\"].map(district_town_map)\n"
   ]
  },
  {
   "cell_type": "code",
   "execution_count": 16,
   "id": "339fcb2c-0ecc-4ba9-9bc6-70132af37ccb",
   "metadata": {},
   "outputs": [
    {
     "data": {
      "text/html": [
       "<div>\n",
       "<style scoped>\n",
       "    .dataframe tbody tr th:only-of-type {\n",
       "        vertical-align: middle;\n",
       "    }\n",
       "\n",
       "    .dataframe tbody tr th {\n",
       "        vertical-align: top;\n",
       "    }\n",
       "\n",
       "    .dataframe thead th {\n",
       "        text-align: right;\n",
       "    }\n",
       "</style>\n",
       "<table border=\"1\" class=\"dataframe\">\n",
       "  <thead>\n",
       "    <tr style=\"text-align: right;\">\n",
       "      <th></th>\n",
       "      <th>Price</th>\n",
       "      <th>Baths</th>\n",
       "      <th>Land size</th>\n",
       "      <th>Beds</th>\n",
       "      <th>House size</th>\n",
       "      <th>town</th>\n",
       "      <th>district</th>\n",
       "      <th>district_  Ampara</th>\n",
       "      <th>district_  Anuradhapura</th>\n",
       "      <th>district_  Badulla</th>\n",
       "      <th>...</th>\n",
       "      <th>district_  Matara</th>\n",
       "      <th>district_  Monaragala</th>\n",
       "      <th>district_  Mullativu</th>\n",
       "      <th>district_  Nuwara Eliya</th>\n",
       "      <th>district_  Polonnaruwa</th>\n",
       "      <th>district_  Puttalam</th>\n",
       "      <th>district_  Ratnapura</th>\n",
       "      <th>district_  Trincomalee</th>\n",
       "      <th>district_  Vavuniya</th>\n",
       "      <th>town_list</th>\n",
       "    </tr>\n",
       "  </thead>\n",
       "  <tbody>\n",
       "    <tr>\n",
       "      <th>0</th>\n",
       "      <td>5400000</td>\n",
       "      <td>1</td>\n",
       "      <td>50.0</td>\n",
       "      <td>3</td>\n",
       "      <td>1600.0</td>\n",
       "      <td>Matara City</td>\n",
       "      <td>Matara</td>\n",
       "      <td>False</td>\n",
       "      <td>False</td>\n",
       "      <td>False</td>\n",
       "      <td>...</td>\n",
       "      <td>True</td>\n",
       "      <td>False</td>\n",
       "      <td>False</td>\n",
       "      <td>False</td>\n",
       "      <td>False</td>\n",
       "      <td>False</td>\n",
       "      <td>False</td>\n",
       "      <td>False</td>\n",
       "      <td>False</td>\n",
       "      <td>NaN</td>\n",
       "    </tr>\n",
       "    <tr>\n",
       "      <th>1</th>\n",
       "      <td>16800000</td>\n",
       "      <td>3</td>\n",
       "      <td>8.0</td>\n",
       "      <td>3</td>\n",
       "      <td>1480.0</td>\n",
       "      <td>Athurugiriya</td>\n",
       "      <td>Colombo</td>\n",
       "      <td>False</td>\n",
       "      <td>False</td>\n",
       "      <td>False</td>\n",
       "      <td>...</td>\n",
       "      <td>False</td>\n",
       "      <td>False</td>\n",
       "      <td>False</td>\n",
       "      <td>False</td>\n",
       "      <td>False</td>\n",
       "      <td>False</td>\n",
       "      <td>False</td>\n",
       "      <td>False</td>\n",
       "      <td>False</td>\n",
       "      <td>NaN</td>\n",
       "    </tr>\n",
       "  </tbody>\n",
       "</table>\n",
       "<p>2 rows × 32 columns</p>\n",
       "</div>"
      ],
      "text/plain": [
       "      Price  Baths  Land size  Beds  House size           town   district  \\\n",
       "0   5400000      1       50.0     3      1600.0    Matara City     Matara   \n",
       "1  16800000      3        8.0     3      1480.0   Athurugiriya    Colombo   \n",
       "\n",
       "   district_  Ampara  district_  Anuradhapura  district_  Badulla  ...  \\\n",
       "0              False                    False               False  ...   \n",
       "1              False                    False               False  ...   \n",
       "\n",
       "   district_  Matara  district_  Monaragala  district_  Mullativu  \\\n",
       "0               True                  False                 False   \n",
       "1              False                  False                 False   \n",
       "\n",
       "   district_  Nuwara Eliya  district_  Polonnaruwa  district_  Puttalam  \\\n",
       "0                    False                   False                False   \n",
       "1                    False                   False                False   \n",
       "\n",
       "   district_  Ratnapura  district_  Trincomalee  district_  Vavuniya  \\\n",
       "0                 False                   False                False   \n",
       "1                 False                   False                False   \n",
       "\n",
       "   town_list  \n",
       "0        NaN  \n",
       "1        NaN  \n",
       "\n",
       "[2 rows x 32 columns]"
      ]
     },
     "execution_count": 16,
     "metadata": {},
     "output_type": "execute_result"
    }
   ],
   "source": [
    "data.head(2)\n"
   ]
  },
  {
   "cell_type": "code",
   "execution_count": 17,
   "id": "4885520e-f3b6-4aaf-8134-68550f1d9993",
   "metadata": {},
   "outputs": [],
   "source": [
    "data[\"town_list\"] = data[\"town_list\"].apply(lambda x: x if isinstance(x, list) else [])"
   ]
  },
  {
   "cell_type": "code",
   "execution_count": 18,
   "id": "68f4ae35-f87b-4000-b6ad-ef761d4fcf95",
   "metadata": {},
   "outputs": [
    {
     "name": "stdout",
     "output_type": "stream",
     "text": [
      "    district           town town_list\n",
      "0     Matara    Matara City        []\n",
      "1    Colombo   Athurugiriya        []\n",
      "2    Gampaha       Kelaniya        []\n",
      "3    Colombo      Colombo 6        []\n",
      "4    Colombo       Dehiwala        []\n",
      "5    Colombo   Talawatugoda        []\n",
      "6      Kandy     Kandy City        []\n",
      "7    Colombo    Piliyandala        []\n",
      "8    Colombo   Talawatugoda        []\n",
      "9    Gampaha      Kadawatha        []\n"
     ]
    }
   ],
   "source": [
    "print(data[[\"district\", \"town\", \"town_list\"]].head(10))"
   ]
  },
  {
   "cell_type": "code",
   "execution_count": 19,
   "id": "ad6e4ec0-8731-4e38-a193-60838cb5c3b9",
   "metadata": {},
   "outputs": [],
   "source": [
    "data[\"town_list\"] = data[\"town_list\"].apply(lambda x: x if isinstance(x, list) else [])"
   ]
  },
  {
   "cell_type": "code",
   "execution_count": 20,
   "id": "1bbda26a-2577-473d-a736-92353564c7c2",
   "metadata": {},
   "outputs": [
    {
     "name": "stdout",
     "output_type": "stream",
     "text": [
      "    district           town town_list\n",
      "0     Matara    Matara City        []\n",
      "1    Colombo   Athurugiriya        []\n",
      "2    Gampaha       Kelaniya        []\n",
      "3    Colombo      Colombo 6        []\n",
      "4    Colombo       Dehiwala        []\n",
      "5    Colombo   Talawatugoda        []\n",
      "6      Kandy     Kandy City        []\n",
      "7    Colombo    Piliyandala        []\n",
      "8    Colombo   Talawatugoda        []\n",
      "9    Gampaha      Kadawatha        []\n"
     ]
    }
   ],
   "source": [
    "print(data[[\"district\", \"town\", \"town_list\"]].head(10))\n"
   ]
  },
  {
   "cell_type": "code",
   "execution_count": 21,
   "id": "efa7ef99-ab31-48cc-a1c1-d6d7c945a3f8",
   "metadata": {},
   "outputs": [
    {
     "name": "stdout",
     "output_type": "stream",
     "text": [
      "['  Matara' '  Colombo' '  Gampaha' '  Kandy' '  Jaffna' '  Galle'\n",
      " '  Kalutara' '  Kurunegala' '  Puttalam' '  Monaragala' '  Kegalle'\n",
      " '  Matale' '  Badulla' '  Hambantota' '  Ratnapura' '  Anuradhapura'\n",
      " '  Batticaloa' '  Nuwara Eliya' '  Polonnaruwa' '  Mannar'\n",
      " '  Trincomalee' '  Ampara' '  Mullativu' '  Vavuniya']\n",
      "dict_keys(['Ampara', 'Anuradhapura', 'Badulla', 'Batticaloa', 'Colombo', 'Galle', 'Gampaha', 'Hambantota', 'Jaffna', 'Kalutara', 'Kandy', 'Kegalle', 'Kurunegala', 'Mannar', 'Matale', 'Matara', 'Monaragala', 'Mullativu', 'Nuwara Eliya', 'Polonnaruwa', 'Puttalam', 'Ratnapura', 'Trincomalee', 'Vavuniya'])\n"
     ]
    }
   ],
   "source": [
    "print(data[\"district\"].unique())  # Check unique district names\n",
    "print(district_town_map.keys())  # Use this instead of townData\n"
   ]
  },
  {
   "cell_type": "code",
   "execution_count": 22,
   "id": "15ba4485-9651-44b9-9a6b-99d95bc38469",
   "metadata": {},
   "outputs": [],
   "source": [
    "data[\"town_list\"] = data[\"district\"].apply(lambda x: district_town_map.get(x.strip(), []))  # Ensure matching\n",
    "# Ensure matching\n"
   ]
  },
  {
   "cell_type": "code",
   "execution_count": 23,
   "id": "fe59d37b-f452-4876-bc20-cd18efde1b72",
   "metadata": {},
   "outputs": [
    {
     "data": {
      "text/plain": [
       "(15269, 32)"
      ]
     },
     "execution_count": 23,
     "metadata": {},
     "output_type": "execute_result"
    }
   ],
   "source": [
    "data.shape\n"
   ]
  },
  {
   "cell_type": "code",
   "execution_count": 24,
   "id": "84edecfc-45e4-4756-8113-b7caf4d3ee32",
   "metadata": {},
   "outputs": [],
   "source": [
    "x=data.drop('Price',axis=1)\n",
    "y=data['Price']"
   ]
  },
  {
   "cell_type": "code",
   "execution_count": 25,
   "id": "2e3ffedf-9206-4dcb-aab7-bc7a9c583c1d",
   "metadata": {},
   "outputs": [
    {
     "name": "stdout",
     "output_type": "stream",
     "text": [
      "Requirement already satisfied: scikit-learn in d:\\work\\03_projects\\17_price_predictor_03\\model\\env\\lib\\site-packages (1.6.1)\n",
      "Requirement already satisfied: numpy>=1.19.5 in d:\\work\\03_projects\\17_price_predictor_03\\model\\env\\lib\\site-packages (from scikit-learn) (2.2.4)\n",
      "Requirement already satisfied: scipy>=1.6.0 in d:\\work\\03_projects\\17_price_predictor_03\\model\\env\\lib\\site-packages (from scikit-learn) (1.15.2)\n",
      "Requirement already satisfied: joblib>=1.2.0 in d:\\work\\03_projects\\17_price_predictor_03\\model\\env\\lib\\site-packages (from scikit-learn) (1.4.2)\n",
      "Requirement already satisfied: threadpoolctl>=3.1.0 in d:\\work\\03_projects\\17_price_predictor_03\\model\\env\\lib\\site-packages (from scikit-learn) (3.6.0)\n"
     ]
    }
   ],
   "source": [
    "!pip install scikit-learn"
   ]
  },
  {
   "cell_type": "code",
   "execution_count": 26,
   "id": "d5b44020-d259-46af-8d92-d6a4c0b4953f",
   "metadata": {},
   "outputs": [],
   "source": [
    "from sklearn.model_selection import train_test_split\n",
    "x_train, x_test , y_train , y_test = train_test_split(x,y, test_size=0.25)\n"
   ]
  },
  {
   "cell_type": "code",
   "execution_count": 27,
   "id": "68bf5957-b849-492d-92de-fad44907846a",
   "metadata": {},
   "outputs": [
    {
     "data": {
      "text/plain": [
       "((11451, 31), (3818, 31))"
      ]
     },
     "execution_count": 27,
     "metadata": {},
     "output_type": "execute_result"
    }
   ],
   "source": [
    "x_train.shape, x_test.shape\n"
   ]
  },
  {
   "cell_type": "code",
   "execution_count": 28,
   "id": "81a2defa-424d-4f6a-8c40-c369ca4a8e4a",
   "metadata": {},
   "outputs": [],
   "source": [
    "def model_acc(model):\n",
    "  model.fit(x_train, y_train)\n",
    "  acc= model.score(x_test, y_test)\n",
    "  print(str(model)+ '-->' +str(acc))"
   ]
  },
  {
   "cell_type": "code",
   "execution_count": 29,
   "id": "bad8aebd-cffd-436a-a6e1-b2045828bf10",
   "metadata": {},
   "outputs": [
    {
     "name": "stdout",
     "output_type": "stream",
     "text": [
      "✅ 'town_list' column successfully transformed!\n"
     ]
    }
   ],
   "source": [
    "from sklearn.preprocessing import MultiLabelBinarizer\n",
    "\n",
    "mlb = MultiLabelBinarizer()\n",
    "town_list_encoded = mlb.fit_transform(data[\"town_list\"])\n",
    "\n",
    "# Convert to DataFrame\n",
    "town_list_df = pd.DataFrame(town_list_encoded, columns=mlb.classes_)\n",
    "\n",
    "# Drop old column & Concatenate new columns\n",
    "data = data.drop(columns=[\"town_list\"])\n",
    "data = pd.concat([data, town_list_df], axis=1)\n",
    "\n",
    "print(\"✅ 'town_list' column successfully transformed!\")"
   ]
  },
  {
   "cell_type": "code",
   "execution_count": 30,
   "id": "6359e41d-7110-422a-8410-cec37dbf7e4b",
   "metadata": {},
   "outputs": [],
   "source": [
    "x['town_list'] = x['town_list'].apply(lambda v: ','.join(v) if isinstance(v, list) else v)\n"
   ]
  },
  {
   "cell_type": "code",
   "execution_count": 31,
   "id": "e26dbf66-b469-4ea0-af66-c46366002053",
   "metadata": {},
   "outputs": [],
   "source": [
    "x = pd.get_dummies(x, drop_first=True)"
   ]
  },
  {
   "cell_type": "code",
   "execution_count": 32,
   "id": "f4c7fa9f-b6df-4cb3-a4dc-be3b06db16bd",
   "metadata": {},
   "outputs": [
    {
     "name": "stdout",
     "output_type": "stream",
     "text": [
      "Index(['Baths', 'Land size', 'Beds', 'House size', 'district_  Ampara',\n",
      "       'district_  Anuradhapura', 'district_  Badulla',\n",
      "       'district_  Batticaloa', 'district_  Colombo', 'district_  Galle',\n",
      "       ...\n",
      "       'town_list_Matale City,Galewela',\n",
      "       'town_list_Matara City,Weligama,Dikwella,Mirissa,Kamburugamuwa,Deniyaya,Akuressa,Devinuwara,Kekanadura,Thelijjawila,Pasgoda,Urubokka,Thihagoda,Malimbada,Hakmana,Makandura',\n",
      "       'town_list_Monaragala City,Wellawaya,Bibile',\n",
      "       'town_list_Mullativu City',\n",
      "       'town_list_Nuwara Eliya City,Nawalapitiya,Hatton',\n",
      "       'town_list_Polonnaruwa City,Medirigiriya',\n",
      "       'town_list_Puttalam City,Wennappuwa,Chilaw',\n",
      "       'town_list_Ratnapura City,Balangoda,Pelmadulla',\n",
      "       'town_list_Trincomalee City', 'town_list_Vavuniya City'],\n",
      "      dtype='object', length=245)\n"
     ]
    }
   ],
   "source": [
    "print(x.columns)"
   ]
  },
  {
   "cell_type": "code",
   "execution_count": 33,
   "id": "3984dabe-0cdf-4692-9da7-6efb19708999",
   "metadata": {},
   "outputs": [],
   "source": [
    "from sklearn.preprocessing import LabelEncoder  # Import LabelEncoder"
   ]
  },
  {
   "cell_type": "code",
   "execution_count": 34,
   "id": "f8be5669-4ca5-4880-98e1-37a4b5a08fab",
   "metadata": {},
   "outputs": [
    {
     "name": "stdout",
     "output_type": "stream",
     "text": [
      "✅ Label Encoding successfully applied!\n"
     ]
    }
   ],
   "source": [
    "from sklearn.preprocessing import LabelEncoder  # Import LabelEncoder\n",
    "\n",
    "# Check if town_list_ and district_ columns exist\n",
    "town_columns = x.filter(like='town_list_').columns\n",
    "district_columns = x.filter(like='district_').columns\n",
    "\n",
    "if not town_columns.empty and not district_columns.empty:\n",
    "    # Reverse One-Hot Encoding\n",
    "    x['town'] = x[town_columns].idxmax(axis=1).str.replace('town_list_', '')\n",
    "    x['district'] = x[district_columns].idxmax(axis=1).str.replace('district_', '')\n",
    "    \n",
    "    # Apply Label Encoding\n",
    "    encoder = LabelEncoder()\n",
    "    x['town'] = encoder.fit_transform(x['town'])\n",
    "    x['district'] = encoder.fit_transform(x['district'])\n",
    "\n",
    "    print(\"✅ Label Encoding successfully applied!\")\n",
    "\n",
    "else:\n",
    "    print(\"❌ Error: town_list_ or district_ columns not found!\")"
   ]
  },
  {
   "cell_type": "code",
   "execution_count": 35,
   "id": "a9e55d2f-b28e-485c-9def-b05cb31b3fb0",
   "metadata": {},
   "outputs": [],
   "source": [
    "from sklearn.preprocessing import LabelEncoder\n",
    "\n",
    "encoder = LabelEncoder()\n",
    "\n",
    "# Reverse One-Hot Encoding\n",
    "x['town'] = x.filter(like='town_list_').idxmax(axis=1).str.replace('town_list_', '', regex=True)\n",
    "x['district'] = x.filter(like='district_').idxmax(axis=1).str.replace('district_', '', regex=True)\n",
    "\n",
    "# Apply Label Encoding\n",
    "x['town'] = encoder.fit_transform(x['town'])\n",
    "x['district'] = encoder.fit_transform(x['district'])\n"
   ]
  },
  {
   "cell_type": "code",
   "execution_count": 36,
   "id": "eb2241d8-8f2f-4e3e-91b0-3c90dfce08aa",
   "metadata": {},
   "outputs": [
    {
     "name": "stdout",
     "output_type": "stream",
     "text": [
      "RandomForestRegressor()-->0.5981918226806475\n"
     ]
    }
   ],
   "source": [
    "from sklearn.model_selection import train_test_split\n",
    "from sklearn.ensemble import RandomForestRegressor\n",
    "\n",
    "# Split Data\n",
    "x_train, x_test, y_train, y_test = train_test_split(x, y, test_size=0.25, random_state=42)\n",
    "\n",
    "# Train Model\n",
    "rf = RandomForestRegressor()\n",
    "model_acc(rf)\n"
   ]
  },
  {
   "cell_type": "code",
   "execution_count": 37,
   "id": "d82dbf9c-bb69-4083-888c-66e36d93b4ee",
   "metadata": {},
   "outputs": [
    {
     "name": "stderr",
     "output_type": "stream",
     "text": [
      "D:\\Work\\03_Projects\\17_price_predictor_03\\model\\env\\Lib\\site-packages\\sklearn\\model_selection\\_validation.py:528: FitFailedWarning: \n",
      "15 fits failed out of a total of 45.\n",
      "The score on these train-test partitions for these parameters will be set to nan.\n",
      "If these failures are not expected, you can try to debug them by setting error_score='raise'.\n",
      "\n",
      "Below are more details about the failures:\n",
      "--------------------------------------------------------------------------------\n",
      "15 fits failed with the following error:\n",
      "Traceback (most recent call last):\n",
      "  File \"D:\\Work\\03_Projects\\17_price_predictor_03\\model\\env\\Lib\\site-packages\\sklearn\\model_selection\\_validation.py\", line 866, in _fit_and_score\n",
      "    estimator.fit(X_train, y_train, **fit_params)\n",
      "  File \"D:\\Work\\03_Projects\\17_price_predictor_03\\model\\env\\Lib\\site-packages\\sklearn\\base.py\", line 1389, in wrapper\n",
      "    return fit_method(estimator, *args, **kwargs)\n",
      "           ^^^^^^^^^^^^^^^^^^^^^^^^^^^^^^^^^^^^^^\n",
      "  File \"D:\\Work\\03_Projects\\17_price_predictor_03\\model\\env\\Lib\\site-packages\\sklearn\\ensemble\\_forest.py\", line 375, in fit\n",
      "    estimator._compute_missing_values_in_feature_mask(\n",
      "  File \"D:\\Work\\03_Projects\\17_price_predictor_03\\model\\env\\Lib\\site-packages\\sklearn\\tree\\_classes.py\", line 214, in _compute_missing_values_in_feature_mask\n",
      "    assert_all_finite(X, **common_kwargs)\n",
      "  File \"D:\\Work\\03_Projects\\17_price_predictor_03\\model\\env\\Lib\\site-packages\\sklearn\\utils\\validation.py\", line 210, in assert_all_finite\n",
      "    _assert_all_finite(\n",
      "  File \"D:\\Work\\03_Projects\\17_price_predictor_03\\model\\env\\Lib\\site-packages\\sklearn\\utils\\validation.py\", line 120, in _assert_all_finite\n",
      "    _assert_all_finite_element_wise(\n",
      "  File \"D:\\Work\\03_Projects\\17_price_predictor_03\\model\\env\\Lib\\site-packages\\sklearn\\utils\\validation.py\", line 169, in _assert_all_finite_element_wise\n",
      "    raise ValueError(msg_err)\n",
      "ValueError: Input X contains NaN.\n",
      "RandomForestRegressor does not accept missing values encoded as NaN natively. For supervised learning, you might want to consider sklearn.ensemble.HistGradientBoostingClassifier and Regressor which accept missing values encoded as NaNs natively. Alternatively, it is possible to preprocess the data, for instance by using an imputer transformer in a pipeline or drop samples with missing values. See https://scikit-learn.org/stable/modules/impute.html You can find a list of all estimators that handle NaN values at the following page: https://scikit-learn.org/stable/modules/impute.html#estimators-that-handle-nan-values\n",
      "\n",
      "  warnings.warn(some_fits_failed_message, FitFailedWarning)\n",
      "D:\\Work\\03_Projects\\17_price_predictor_03\\model\\env\\Lib\\site-packages\\sklearn\\model_selection\\_search.py:1108: UserWarning: One or more of the test scores are non-finite: [0.67292243 0.68866727 0.68642305        nan        nan        nan\n",
      " 0.66011387 0.6828435  0.69202163]\n",
      "  warnings.warn(\n"
     ]
    },
    {
     "name": "stdout",
     "output_type": "stream",
     "text": [
      "Best Parameters: {'criterion': 'poisson', 'n_estimators': 100}\n",
      "Best Model: RandomForestRegressor(criterion='poisson')\n"
     ]
    }
   ],
   "source": [
    "# 🔹 Import required libraries\n",
    "from sklearn.model_selection import GridSearchCV, train_test_split\n",
    "from sklearn.ensemble import RandomForestRegressor\n",
    "\n",
    "# 🔹 Split the dataset into training and testing sets\n",
    "x_train, x_test, y_train, y_test = train_test_split(x, y, test_size=0.2, random_state=42)\n",
    "\n",
    "# 🔹 Initialize RandomForestRegressor\n",
    "rf = RandomForestRegressor()\n",
    "\n",
    "# 🔹 Define Hyperparameter Grid for Tuning\n",
    "parameters = {\n",
    "    'n_estimators': [10, 50, 100],  # Number of trees in the forest\n",
    "    'criterion': ['squared_error', 'absolute_error', 'poisson']  # Different loss functions\n",
    "}\n",
    "\n",
    "# 🔹 Perform Grid Search for best parameters\n",
    "grid_obj = GridSearchCV(estimator=rf, param_grid=parameters, cv=5, scoring='r2', n_jobs=-1)\n",
    "grid_fit = grid_obj.fit(x_train, y_train)\n",
    "\n",
    "# 🔹 Get the Best Model\n",
    "best_model = grid_fit.best_estimator_\n",
    "\n",
    "# 🔹 Output the Best Parameters\n",
    "print(\"Best Parameters:\", grid_fit.best_params_)\n",
    "print(\"Best Model:\", best_model)\n"
   ]
  },
  {
   "cell_type": "code",
   "execution_count": 37,
   "id": "71467686-9884-417c-926c-67157d597eba",
   "metadata": {},
   "outputs": [
    {
     "name": "stdout",
     "output_type": "stream",
     "text": [
      "Are there any NaN values? False\n"
     ]
    }
   ],
   "source": [
    "from sklearn.impute import SimpleImputer\n",
    "import numpy as np\n",
    "\n",
    "# 🔹 Handle missing values by filling with the median value of each column\n",
    "imputer = SimpleImputer(strategy='median')\n",
    "x = imputer.fit_transform(x)  # Convert to numpy array\n",
    "\n",
    "# 🔹 Convert back to Pandas DataFrame (if needed)\n",
    "x = pd.DataFrame(x)\n",
    "\n",
    "# 🔹 Confirm no NaNs remain\n",
    "print(f\"Are there any NaN values? {np.isnan(x).sum().sum() > 0}\")  # Should print False\n"
   ]
  },
  {
   "cell_type": "code",
   "execution_count": 38,
   "id": "d04f280a-e8ff-470e-ba43-17f7a3c3cb47",
   "metadata": {},
   "outputs": [
    {
     "name": "stdout",
     "output_type": "stream",
     "text": [
      "Best Parameters: {'criterion': 'poisson', 'n_estimators': 100}\n",
      "Best Model: RandomForestRegressor(criterion='poisson')\n"
     ]
    }
   ],
   "source": [
    "# 🔹 Import required libraries\n",
    "from sklearn.model_selection import GridSearchCV, train_test_split\n",
    "from sklearn.ensemble import RandomForestRegressor\n",
    "\n",
    "# 🔹 Split the dataset into training and testing sets\n",
    "x_train, x_test, y_train, y_test = train_test_split(x, y, test_size=0.2, random_state=42)\n",
    "\n",
    "# 🔹 Initialize RandomForestRegressor\n",
    "rf = RandomForestRegressor()\n",
    "\n",
    "# 🔹 Define Hyperparameter Grid for Tuning\n",
    "parameters = {\n",
    "    'n_estimators': [10, 50, 100],  # Number of trees in the forest\n",
    "    'criterion': ['squared_error', 'absolute_error', 'poisson']  # Different loss functions\n",
    "}\n",
    "\n",
    "# 🔹 Perform Grid Search for best parameters\n",
    "grid_obj = GridSearchCV(estimator=rf, param_grid=parameters, cv=5, scoring='r2', n_jobs=-1)\n",
    "grid_fit = grid_obj.fit(x_train, y_train)\n",
    "\n",
    "# 🔹 Get the Best Model\n",
    "best_model = grid_fit.best_estimator_\n",
    "\n",
    "# 🔹 Output the Best Parameters\n",
    "print(\"Best Parameters:\", grid_fit.best_params_)\n",
    "print(\"Best Model:\", best_model)\n"
   ]
  },
  {
   "cell_type": "code",
   "execution_count": 49,
   "id": "d8410997-ad60-4388-b639-c9f0c37c149b",
   "metadata": {},
   "outputs": [
    {
     "name": "stdout",
     "output_type": "stream",
     "text": [
      "✅ Model successfully saved as 'predictor_02.pickle'\n"
     ]
    }
   ],
   "source": [
    "import pickle\n",
    "\n",
    "# 🔹 Save the trained model\n",
    "with open('predictor_02.pickle', 'wb') as file:\n",
    "    pickle.dump(best_model, file)\n",
    "\n",
    "print(\"✅ Model successfully saved as 'predictor_02.pickle'\")\n"
   ]
  },
  {
   "cell_type": "code",
   "execution_count": 45,
   "id": "068464f5-9575-4af6-9f8b-cc55e842eaf0",
   "metadata": {},
   "outputs": [
    {
     "name": "stdout",
     "output_type": "stream",
     "text": [
      "✅ Loaded Model Score: 0.5880150017893536\n"
     ]
    }
   ],
   "source": [
    "# 🔹 Load the model back\n",
    "with open('predictor_02.pickle', 'rb') as file:\n",
    "    loaded_model = pickle.load(file)\n",
    "\n",
    "# 🔹 Check model performance\n",
    "print(\"✅ Loaded Model Score:\", loaded_model.score(x_test, y_test))\n"
   ]
  },
  {
   "cell_type": "code",
   "execution_count": 46,
   "id": "42779191-15f2-44a2-b7d7-221144da84ef",
   "metadata": {},
   "outputs": [
    {
     "ename": "FileNotFoundError",
     "evalue": "[Errno 2] No such file or directory: 'model/predictor_02.pickle'",
     "output_type": "error",
     "traceback": [
      "\u001b[31m---------------------------------------------------------------------------\u001b[39m",
      "\u001b[31mFileNotFoundError\u001b[39m                         Traceback (most recent call last)",
      "\u001b[36mCell\u001b[39m\u001b[36m \u001b[39m\u001b[32mIn[46]\u001b[39m\u001b[32m, line 3\u001b[39m\n\u001b[32m      1\u001b[39m \u001b[38;5;28;01mimport\u001b[39;00m\u001b[38;5;250m \u001b[39m\u001b[34;01mpickle\u001b[39;00m\n\u001b[32m----> \u001b[39m\u001b[32m3\u001b[39m \u001b[38;5;28;01mwith\u001b[39;00m \u001b[38;5;28;43mopen\u001b[39;49m\u001b[43m(\u001b[49m\u001b[33;43m'\u001b[39;49m\u001b[33;43mmodel/predictor_02.pickle\u001b[39;49m\u001b[33;43m'\u001b[39;49m\u001b[43m,\u001b[49m\u001b[43m \u001b[49m\u001b[33;43m'\u001b[39;49m\u001b[33;43mrb\u001b[39;49m\u001b[33;43m'\u001b[39;49m\u001b[43m)\u001b[49m \u001b[38;5;28;01mas\u001b[39;00m f:\n\u001b[32m      4\u001b[39m     model = pickle.load(f)\n\u001b[32m      6\u001b[39m \u001b[38;5;28mprint\u001b[39m(model.feature_importances_)\n",
      "\u001b[36mFile \u001b[39m\u001b[32mD:\\Work\\03_Projects\\17_price_predictor_03\\model\\env\\Lib\\site-packages\\IPython\\core\\interactiveshell.py:325\u001b[39m, in \u001b[36m_modified_open\u001b[39m\u001b[34m(file, *args, **kwargs)\u001b[39m\n\u001b[32m    318\u001b[39m \u001b[38;5;28;01mif\u001b[39;00m file \u001b[38;5;129;01min\u001b[39;00m {\u001b[32m0\u001b[39m, \u001b[32m1\u001b[39m, \u001b[32m2\u001b[39m}:\n\u001b[32m    319\u001b[39m     \u001b[38;5;28;01mraise\u001b[39;00m \u001b[38;5;167;01mValueError\u001b[39;00m(\n\u001b[32m    320\u001b[39m         \u001b[33mf\u001b[39m\u001b[33m\"\u001b[39m\u001b[33mIPython won\u001b[39m\u001b[33m'\u001b[39m\u001b[33mt let you open fd=\u001b[39m\u001b[38;5;132;01m{\u001b[39;00mfile\u001b[38;5;132;01m}\u001b[39;00m\u001b[33m by default \u001b[39m\u001b[33m\"\u001b[39m\n\u001b[32m    321\u001b[39m         \u001b[33m\"\u001b[39m\u001b[33mas it is likely to crash IPython. If you know what you are doing, \u001b[39m\u001b[33m\"\u001b[39m\n\u001b[32m    322\u001b[39m         \u001b[33m\"\u001b[39m\u001b[33myou can use builtins\u001b[39m\u001b[33m'\u001b[39m\u001b[33m open.\u001b[39m\u001b[33m\"\u001b[39m\n\u001b[32m    323\u001b[39m     )\n\u001b[32m--> \u001b[39m\u001b[32m325\u001b[39m \u001b[38;5;28;01mreturn\u001b[39;00m \u001b[43mio_open\u001b[49m\u001b[43m(\u001b[49m\u001b[43mfile\u001b[49m\u001b[43m,\u001b[49m\u001b[43m \u001b[49m\u001b[43m*\u001b[49m\u001b[43margs\u001b[49m\u001b[43m,\u001b[49m\u001b[43m \u001b[49m\u001b[43m*\u001b[49m\u001b[43m*\u001b[49m\u001b[43mkwargs\u001b[49m\u001b[43m)\u001b[49m\n",
      "\u001b[31mFileNotFoundError\u001b[39m: [Errno 2] No such file or directory: 'model/predictor_02.pickle'"
     ]
    }
   ],
   "source": [
    "import pickle\n",
    "\n",
    "with open('model/predictor_02.pickle', 'rb') as f:\n",
    "    model = pickle.load(f)\n",
    "\n",
    "print(model.feature_importances_)\n"
   ]
  },
  {
   "cell_type": "code",
   "execution_count": 47,
   "id": "9a4003e9-6a35-4725-b0e3-22481fc7fd20",
   "metadata": {},
   "outputs": [
    {
     "name": "stdout",
     "output_type": "stream",
     "text": [
      "False\n"
     ]
    }
   ],
   "source": [
    "import os\n",
    "\n",
    "print(os.path.exists(\"model/predictor_02.pickle\"))  # True නම් file එක තියනවා\n"
   ]
  },
  {
   "cell_type": "code",
   "execution_count": 50,
   "id": "6abcf5bc-56e8-4e95-ac99-0452d536de0b",
   "metadata": {},
   "outputs": [
    {
     "name": "stdout",
     "output_type": "stream",
     "text": [
      "File exists: False\n"
     ]
    }
   ],
   "source": [
    "import os\n",
    "\n",
    "file_path = \"model/predictor_02.pickle\"\n",
    "print(f\"File exists: {os.path.exists(file_path)}\")\n"
   ]
  },
  {
   "cell_type": "code",
   "execution_count": 52,
   "id": "8d23cf3c-e048-40dc-bb93-4a18fda33520",
   "metadata": {},
   "outputs": [
    {
     "name": "stdout",
     "output_type": "stream",
     "text": [
      "Current Working Directory: D:\\Work\\03_Projects\\19_price_predictor_04(_)\\model\n"
     ]
    }
   ],
   "source": [
    "import os\n",
    "print(\"Current Working Directory:\", os.getcwd())\n"
   ]
  },
  {
   "cell_type": "code",
   "execution_count": 55,
   "id": "362f74ae-c2dd-4e06-8628-0226345daab2",
   "metadata": {},
   "outputs": [
    {
     "name": "stdout",
     "output_type": "stream",
     "text": [
      "[1.15057161e-01 1.22715933e-01 2.85318041e-02 4.80344941e-01\n",
      " 1.00722093e-05 7.80560059e-05 1.33942922e-05 1.58577581e-05\n",
      " 1.34554555e-02 1.67831807e-04 1.11416895e-03 4.30146799e-05\n",
      " 6.73459836e-05 3.18575493e-04 1.83089184e-04 4.95115848e-04\n",
      " 1.48946953e-04 1.30359402e-04 1.82168601e-05 5.76262653e-05\n",
      " 1.93769909e-05 0.00000000e+00 1.44932219e-04 3.96986486e-06\n",
      " 1.70337600e-05 8.44966998e-05 3.78896100e-06 6.93895191e-09\n",
      " 0.00000000e+00 1.50021536e-05 1.98340713e-06 2.10786428e-06\n",
      " 1.27517980e-04 8.77453356e-06 8.98238373e-06 1.75911178e-04\n",
      " 3.03982467e-04 8.39166586e-05 1.29502985e-03 7.46682965e-05\n",
      " 1.38975260e-05 2.74284590e-05 1.25551182e-05 5.50783604e-04\n",
      " 1.69290763e-05 1.36121138e-04 1.03726141e-02 7.09430912e-06\n",
      " 6.16988268e-06 3.83217661e-05 1.54131347e-06 3.50534714e-03\n",
      " 7.02104943e-06 9.85793522e-06 6.45056251e-05 3.92393834e-04\n",
      " 2.86576493e-05 1.19285900e-05 4.59253187e-04 5.04440890e-04\n",
      " 2.93667089e-06 3.42724317e-03 6.03924294e-03 1.98622564e-02\n",
      " 5.20114335e-03 2.65400370e-02 5.28432820e-03 5.06688685e-04\n",
      " 3.02962053e-06 2.22497299e-06 2.51831310e-07 5.80441530e-03\n",
      " 6.78757562e-05 1.09627959e-04 1.20588409e-04 4.47098670e-05\n",
      " 1.18269156e-04 1.08058262e-06 4.51935746e-07 9.53532958e-05\n",
      " 7.58366800e-06 1.26325988e-07 4.79717471e-07 2.92138089e-06\n",
      " 4.45685678e-06 5.11216252e-04 2.75929613e-08 4.42851973e-04\n",
      " 1.42482528e-04 2.69146601e-04 1.26423500e-05 1.35878609e-09\n",
      " 1.15137452e-04 1.32510149e-06 3.54694454e-05 2.17500203e-05\n",
      " 0.00000000e+00 0.00000000e+00 3.37676181e-05 1.25241451e-04\n",
      " 3.78924941e-07 3.02650281e-03 1.48427118e-04 4.51749775e-10\n",
      " 3.61955846e-06 7.78667625e-04 8.18453141e-05 1.57282122e-03\n",
      " 9.36924032e-06 6.13156874e-04 1.25484525e-05 1.69305450e-04\n",
      " 1.24129928e-05 2.35677918e-03 1.13319940e-03 2.66812429e-04\n",
      " 9.97950241e-06 1.59289485e-04 6.54245931e-05 5.59574631e-04\n",
      " 0.00000000e+00 6.71776922e-04 1.59348384e-03 1.32233986e-03\n",
      " 1.13885803e-06 4.01815506e-04 5.64033590e-04 6.73650748e-03\n",
      " 5.84886445e-03 5.66180254e-04 5.02861015e-05 7.96932572e-04\n",
      " 3.75125599e-05 2.15681812e-03 0.00000000e+00 1.85096245e-03\n",
      " 1.11809086e-04 6.16672712e-05 8.64858367e-05 8.79717689e-04\n",
      " 9.96601518e-06 5.87915498e-06 4.50901325e-08 4.37539513e-05\n",
      " 1.81661965e-05 0.00000000e+00 1.28129713e-04 2.02753382e-05\n",
      " 8.59158398e-06 1.27410930e-03 3.56425809e-03 0.00000000e+00\n",
      " 0.00000000e+00 7.78256234e-05 3.77747267e-03 3.48373661e-05\n",
      " 1.38678519e-03 2.58701223e-07 7.85261424e-04 6.42436714e-07\n",
      " 4.84731216e-03 1.51157978e-04 5.94606241e-04 1.99743591e-06\n",
      " 7.03342748e-04 0.00000000e+00 1.74026810e-02 4.89322965e-07\n",
      " 8.99763721e-05 1.81010217e-05 1.70673594e-02 1.84948247e-06\n",
      " 1.12938599e-06 6.90989712e-07 6.88372164e-04 1.92700417e-03\n",
      " 9.77849798e-06 1.26253262e-03 2.10183532e-04 1.91339286e-05\n",
      " 5.75893466e-05 4.60650039e-03 1.15825928e-05 3.77960409e-05\n",
      " 4.03170778e-06 9.74884772e-07 4.87851995e-08 1.51338692e-04\n",
      " 4.62630514e-05 1.47080845e-06 1.31688271e-05 2.78752502e-03\n",
      " 1.25473059e-05 8.53124488e-05 1.18100404e-05 6.39486439e-04\n",
      " 5.52177277e-07 6.41786179e-06 7.73697293e-08 7.76333274e-05\n",
      " 1.68602605e-05 1.05164560e-05 1.39656211e-02 1.83592688e-04\n",
      " 1.81266318e-03 3.21400625e-05 6.24515789e-05 4.19136077e-04\n",
      " 1.61140602e-04 3.59462006e-04 1.66527000e-04 8.28064052e-05\n",
      " 2.48125212e-05 5.14393672e-05 2.63253782e-05 0.00000000e+00\n",
      " 1.85049651e-04 3.50368164e-06 2.79843323e-05 4.94143671e-05\n",
      " 8.14110695e-06 5.18040100e-09 1.09102567e-04 1.19287181e-05\n",
      " 8.92752577e-06 1.77353517e-02 2.07769000e-04 1.06837801e-03\n",
      " 4.56754881e-05 9.03859334e-05 3.23874075e-04 1.47673732e-04\n",
      " 3.79105993e-04 1.60144810e-04 1.55661915e-04 1.36265894e-05\n",
      " 6.93582570e-05 1.73766579e-05 0.00000000e+00 1.63070034e-04\n",
      " 2.89880703e-06 2.73384388e-05 4.89298459e-05 7.80619964e-06\n",
      " 5.09879455e-10 2.58624738e-03 3.10154988e-03]\n"
     ]
    }
   ],
   "source": [
    "import pickle\n",
    "\n",
    "with open('predictor_02.pickle', 'rb') as f:  # 🔹 'model/' remove කරලා\n",
    "    model = pickle.load(f)\n",
    "\n",
    "print(model.feature_importances_)\n"
   ]
  },
  {
   "cell_type": "code",
   "execution_count": null,
   "id": "f1204c0a-699f-47d2-be0d-e27fb0ffbb1d",
   "metadata": {},
   "outputs": [],
   "source": []
  }
 ],
 "metadata": {
  "kernelspec": {
   "display_name": "Python 3 (ipykernel)",
   "language": "python",
   "name": "python3"
  },
  "language_info": {
   "codemirror_mode": {
    "name": "ipython",
    "version": 3
   },
   "file_extension": ".py",
   "mimetype": "text/x-python",
   "name": "python",
   "nbconvert_exporter": "python",
   "pygments_lexer": "ipython3",
   "version": "3.12.6"
  }
 },
 "nbformat": 4,
 "nbformat_minor": 5
}
